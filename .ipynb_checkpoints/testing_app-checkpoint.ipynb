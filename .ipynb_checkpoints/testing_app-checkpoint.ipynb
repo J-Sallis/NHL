{
 "cells": [
  {
   "cell_type": "code",
   "execution_count": 1,
   "id": "4c7193b1-a06c-4a4c-8d63-65b3b735ffad",
   "metadata": {},
   "outputs": [],
   "source": [
    "from dash import dcc\n",
    "from dash import html\n",
    "from dash.dependencies import Input, Output\n",
    "import dash_bootstrap_components as dbc\n",
    "from apps import heatmap_tab\n",
    "# hits_goals_tab \n",
    "# table_playoff\n",
    "from app import app\n",
    "from app import server"
   ]
  },
  {
   "cell_type": "code",
   "execution_count": 2,
   "id": "db57c37f-c050-4448-84e9-70df780a966c",
   "metadata": {},
   "outputs": [
    {
     "name": "stdout",
     "output_type": "stream",
     "text": [
      "Dash app running on http://127.0.0.1:8050/\n"
     ]
    }
   ],
   "source": [
    "app.layout = \n",
    "\n",
    "if __name__ == '__main__':\n",
    "    app.run_server()"
   ]
  }
 ],
 "metadata": {
  "kernelspec": {
   "display_name": "Python 3 (ipykernel)",
   "language": "python",
   "name": "python3"
  },
  "language_info": {
   "codemirror_mode": {
    "name": "ipython",
    "version": 3
   },
   "file_extension": ".py",
   "mimetype": "text/x-python",
   "name": "python",
   "nbconvert_exporter": "python",
   "pygments_lexer": "ipython3",
   "version": "3.8.12"
  }
 },
 "nbformat": 4,
 "nbformat_minor": 5
}
