{
 "cells": [
  {
   "cell_type": "code",
   "execution_count": 3,
   "id": "44c4f85b-1cfe-4c94-9239-b4676d4f7c72",
   "metadata": {},
   "outputs": [],
   "source": [
    "import pandas as pd\n",
    "import numpy as np"
   ]
  },
  {
   "cell_type": "code",
   "execution_count": 1,
   "id": "f3622db8-b974-4b42-b8cb-90817d98313f",
   "metadata": {},
   "outputs": [
    {
     "data": {
      "text/plain": [
       "95485660"
      ]
     },
     "execution_count": 1,
     "metadata": {},
     "output_type": "execute_result"
    }
   ],
   "source": [
    "import requests\n",
    "url = 'https://moneypuck.com/moneypuck/playerData/careers/gameByGame/all_teams.csv'\n",
    "r = requests.get(url, allow_redirects=True)\n",
    "open('all_teams.csv','wb').write(r.content)"
   ]
  },
  {
   "cell_type": "code",
   "execution_count": 4,
   "id": "e358874f-4927-4b8a-a08d-8511bf81725b",
   "metadata": {},
   "outputs": [],
   "source": [
    "NHL = pd.read_csv('all_teams.csv')"
   ]
  },
  {
   "cell_type": "code",
   "execution_count": 5,
   "id": "8eed3bfa-ffdc-4e8e-a8e0-2ac6d9c75311",
   "metadata": {},
   "outputs": [],
   "source": [
    "NHL['team'] = NHL['team'].replace(['T.B','N.J','L.A','S.J'],['TBL','NJD','LAK','SJS'])\n",
    "NHL['name'] = NHL['name'].replace(['T.B','N.J','L.A','S.J'],['TBL','NJD','LAK','SJS'])\n",
    "NHL['opposingTeam'] = NHL['opposingTeam'].replace(['T.B','N.J','L.A','S.J'],['TBL','NJD','LAK','SJS'])\n",
    "NHL['playerTeam'] = NHL['playerTeam'].replace(['T.B','N.J','L.A','S.J'],['TBL','NJD','LAK','SJS'])\n",
    "NHL['team'] = NHL['team'].astype('string')\n",
    "NHL = NHL.drop(NHL[NHL['situation']!= 'all'].index)\n",
    "NHL['gameDate'] = pd.to_datetime(NHL['gameDate'].astype(str), format='%Y%m%d')\n",
    "NHL_game = NHL.groupby(['team','gameId'])[['goalsFor','goalsAgainst']].sum()\n",
    "NHL_game['tie'] = np.where(NHL_game['goalsFor'] == NHL_game['goalsAgainst'], True, False)\n",
    "NHL_game['points'] = np.where(NHL_game['goalsFor'] > NHL_game['goalsAgainst'], 1, 0) + np.where(NHL_game['tie'] == True, 0.75,0)\n",
    "NHL_game = NHL_game.loc[:,'points']\n",
    "NHL = pd.merge(NHL,NHL_game,on=['team','gameId'])\n",
    "col = list(NHL.columns)\n",
    "x = ['goalsAgainst','hitsAgainst','hitsFor','goalsFor','season','team','points']\n",
    "NHL_violin = NHL.loc[:,['hitsFor','goalsFor','playoffGame']]\n",
    "DB = NHL.loc[:,x].groupby(by=['season','team']).agg({'goalsAgainst':'sum','points':'mean','hitsAgainst':'sum','hitsFor':'sum','goalsFor':'sum'}).reset_index()\n",
    "DB['Goal_pct'] = DB.goalsFor/(DB.goalsAgainst + DB.goalsFor)\n",
    "DB['Hits_pct'] = DB.hitsFor/(DB.hitsAgainst + DB.hitsFor)\n",
    "DB['season'] = pd.to_datetime(DB['season'],format='%Y').dt.year\n",
    "DB = DB.set_index('season')\n",
    "\n",
    "playoffs = NHL.groupby(['team','season','playoffGame']).agg({'goalsAgainst':'sum','points':'sum','hitsAgainst':'sum','hitsFor':'sum','goalsFor':'sum','gameId':'count'}).reset_index()\n",
    "playoffs['Goals per game'] = (playoffs['goalsAgainst'] + playoffs['goalsFor'])/playoffs['gameId']\n",
    "playoffs['Hits per game'] = (playoffs['hitsAgainst'] + playoffs['hitsFor'])/playoffs['gameId']\n",
    "\n",
    "cup=[]\n",
    "for name, group in playoffs.loc[playoffs['playoffGame']==1].groupby(['season']):\n",
    "    cup.append(str(group[['team','points']].loc[group['points'].idxmax(),'team']))\n",
    "cup\n",
    "playoffs = playoffs.groupby(['season','playoffGame']).agg({'Goals per game':'mean','Hits per game':'mean'}).reset_index()\n",
    "playoffs.season += 1\n",
    "playoffs = playoffs.rename({'season':'Year'})\n",
    "cup_df = pd.DataFrame({'Cup_winner':cup})\n",
    "cup_df = pd.DataFrame(np.repeat(cup_df.values, 2, axis=0))\n",
    "cup_df = playoffs.join(cup_df)\n",
    "cup_df['Goals/game vs Reg Season'] = cup_df['Goals per game'].pct_change()\n",
    "cup_df['Hits/game vs Reg Season'] = cup_df['Hits per game'].pct_change()\n",
    "cup_df =  cup_df.loc[cup_df['playoffGame'] == 1]\n",
    "cup_df = cup_df.rename(columns={0:'Cup winner','season':'Season'})\n",
    "cup_df[['Goals per game','Hits per game']] = cup_df[['Goals per game','Hits per game']].round(2)\n",
    "cup_df= cup_df[['Season','Cup winner','Goals per game','Goals/game vs Reg Season','Hits per game','Hits/game vs Reg Season']]\n",
    "HM_NHL = NHL.groupby(['team','season','gameId']).agg({'points':'mean','takeawaysAgainst':'sum',\n",
    "                                                      'giveawaysAgainst':'sum','takeawaysFor':'sum','giveawaysFor':'sum','hitsAgainst':'sum','hitsFor':'sum',\n",
    "                                                      'faceOffsWonFor':'sum','faceOffsWonAgainst':'sum',\n",
    "                                                      'reboundsFor':'sum','reboundsAgainst':'sum','shotsOnGoalFor':'sum','shotsOnGoalAgainst':'sum',\n",
    "                                                     'shotsOnGoalAgainst':'sum','shotsOnGoalFor':'sum','penalityMinutesFor':'sum','penalityMinutesAgainst':'sum','dZoneGiveawaysAgainst':'sum',\n",
    "                                                      'dZoneGiveawaysFor':'sum','highDangerShotsAgainst':'sum','highDangerShotsFor':'sum','shotAttemptsAgainst':'sum','shotAttemptsFor':'sum' \n",
    "                                                     })\n",
    "HM_NHL['Takeaways_diff'] = HM_NHL['takeawaysFor'] - HM_NHL['takeawaysAgainst']\n",
    "HM_NHL['Giveaways_diff'] = HM_NHL['giveawaysFor'] - HM_NHL['giveawaysAgainst']\n",
    "HM_NHL['Hits_diff'] = HM_NHL['hitsFor'] - HM_NHL['hitsAgainst']\n",
    "HM_NHL['Faceoff_diff'] = HM_NHL['faceOffsWonFor'] - HM_NHL['faceOffsWonAgainst']\n",
    "HM_NHL['Rebound_diff'] = HM_NHL['reboundsFor'] - HM_NHL['reboundsAgainst']\n",
    "HM_NHL['Shots_diff'] = HM_NHL['shotsOnGoalFor'] - HM_NHL['shotsOnGoalAgainst']\n",
    "HM_NHL['Pentalty_diff'] = HM_NHL['penalityMinutesFor'] - HM_NHL['penalityMinutesAgainst']\n",
    "HM_NHL['Dzone_giveaways_diff'] = HM_NHL['dZoneGiveawaysFor'] - HM_NHL['dZoneGiveawaysAgainst']\n",
    "HM_NHL['highDangerShots_diff'] = HM_NHL['highDangerShotsFor'] - HM_NHL['highDangerShotsAgainst']\n",
    "HM_NHL['ShotAttempt_diff'] = HM_NHL['shotAttemptsFor'] - HM_NHL['shotAttemptsAgainst']\n",
    "HM_NHL = HM_NHL.drop(['takeawaysFor','takeawaysAgainst','giveawaysFor','giveawaysAgainst','hitsFor','hitsAgainst','faceOffsWonFor','faceOffsWonAgainst',\n",
    "                      'reboundsAgainst','reboundsFor','shotsOnGoalFor','shotsOnGoalAgainst','penalityMinutesAgainst','penalityMinutesFor',\n",
    "                      'dZoneGiveawaysAgainst','dZoneGiveawaysFor','highDangerShotsAgainst','highDangerShotsFor',\n",
    "                      'shotAttemptsAgainst','shotAttemptsFor'\n",
    "                     ],axis='columns')\n",
    "HM_NHL = HM_NHL.reset_index()\n",
    "NHL_violin['goalsFor'] = NHL_violin['goalsFor'].astype(int)\n",
    "lst=[]\n",
    "lst += ['season','team','points']\n",
    "for i in NHL.columns:\n",
    "    if 'rebound' in i:\n",
    "        lst.append(i)\n",
    "\n",
    "NHL_rebound = NHL[lst]\n",
    "y = x + ['reboundsFor','reboundsAgainst','playoffGame','gameDate','gameId']\n",
    "NHL_season = NHL[y]\n",
    "NHL_season = NHL_season.set_index('gameDate')\n",
    "DB.to_pickle('NHL_edit.pkl')\n",
    "HM_NHL.to_pickle('heat_map.pkl')\n",
    "playoffs.to_pickle('playoffs.pkl')\n",
    "cup_df.to_pickle('playoffs_table.pkl')\n",
    "NHL_violin.to_pickle('NHL_violin.pkl')\n",
    "NHL_rebound.to_pickle('NHL_rebound.pkl')"
   ]
  }
 ],
 "metadata": {
  "kernelspec": {
   "display_name": "Python 3 (ipykernel)",
   "language": "python",
   "name": "python3"
  },
  "language_info": {
   "codemirror_mode": {
    "name": "ipython",
    "version": 3
   },
   "file_extension": ".py",
   "mimetype": "text/x-python",
   "name": "python",
   "nbconvert_exporter": "python",
   "pygments_lexer": "ipython3",
   "version": "3.8.12"
  }
 },
 "nbformat": 4,
 "nbformat_minor": 5
}
