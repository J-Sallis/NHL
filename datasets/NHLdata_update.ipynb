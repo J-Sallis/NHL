{
 "cells": [
  {
   "cell_type": "code",
   "execution_count": 1,
   "id": "4c9d3c6e-b1ee-436f-9165-eb02bfeac564",
   "metadata": {},
   "outputs": [],
   "source": [
    "import requests"
   ]
  },
  {
   "cell_type": "code",
   "execution_count": 2,
   "id": "28c73e68-f557-4210-b69d-feee9d2de1aa",
   "metadata": {},
   "outputs": [],
   "source": [
    "url = 'https://moneypuck.com/moneypuck/playerData/careers/gameByGame/all_teams.csv'"
   ]
  },
  {
   "cell_type": "code",
   "execution_count": 3,
   "id": "2f4e2031-20cb-4e76-ae3c-acf3c4ff5208",
   "metadata": {},
   "outputs": [],
   "source": [
    "r = requests.get(url, allow_redirects=True)"
   ]
  },
  {
   "cell_type": "code",
   "execution_count": 4,
   "id": "4a347be9-735d-47ce-887d-0e75a7f04be1",
   "metadata": {},
   "outputs": [
    {
     "data": {
      "text/plain": [
       "90553256"
      ]
     },
     "execution_count": 4,
     "metadata": {},
     "output_type": "execute_result"
    }
   ],
   "source": [
    "open('all_teams.csv','wb').write(r.content)"
   ]
  }
 ],
 "metadata": {
  "kernelspec": {
   "display_name": "Python 3 (ipykernel)",
   "language": "python",
   "name": "python3"
  },
  "language_info": {
   "codemirror_mode": {
    "name": "ipython",
    "version": 3
   },
   "file_extension": ".py",
   "mimetype": "text/x-python",
   "name": "python",
   "nbconvert_exporter": "python",
   "pygments_lexer": "ipython3",
   "version": "3.8.12"
  }
 },
 "nbformat": 4,
 "nbformat_minor": 5
}
