{
 "cells": [
  {
   "cell_type": "code",
   "execution_count": 9,
   "id": "35ae5234-aa3d-44af-99a9-df327e796252",
   "metadata": {},
   "outputs": [
    {
     "name": "stdout",
     "output_type": "stream",
     "text": [
      "Dash app running on http://127.0.0.1:8050/\n"
     ]
    },
    {
     "name": "stderr",
     "output_type": "stream",
     "text": [
      "C:\\ProgramData\\Anaconda3\\lib\\site-packages\\jupyter_dash\\jupyter_app.py:139: UserWarning:\n",
      "\n",
      "The 'environ['werkzeug.server.shutdown']' function is deprecated and will be removed in Werkzeug 2.1.\n",
      "\n"
     ]
    }
   ],
   "source": [
    "import pandas as pd\n",
    "from dash import dcc\n",
    "from dash import html\n",
    "import plotly.io as pio\n",
    "import plotly.graph_objects as go\n",
    "from dash.dependencies import Input, Output\n",
    "pio.templates.default = \"plotly_dark\"\n",
    "import dash_bootstrap_components as dbc\n",
    "import pathlib\n",
    "from jupyter_dash import JupyterDash\n",
    "\n",
    "\n",
    "NHL_violin = pd.read_pickle(r'C:\\Users\\jesse\\Python\\Kaggle\\NHL\\datasets\\NHL_violin.pkl')\n",
    "\n",
    "\n",
    "app2 = JupyterDash(__name__, external_stylesheets=[dbc.themes.CYBORG])\n",
    "app2.layout = dbc.Container([dbc.Col([\n",
    "    dcc.RadioItems(id='violin_CL',\n",
    "        options=[\n",
    "            {'label': 'Hits', 'value': 'hitsFor'},\n",
    "            {'label': 'Goals', 'value': 'goalsFor'},\n",
    "            \n",
    "        ],\n",
    "        value='hitsFor'\n",
    "    ),dcc.Graph(id=\"violin\")\n",
    "],width={'size':6})])\n",
    "\n",
    "@app2.callback(\n",
    "    Output(component_id='violin', component_property='figure'),\n",
    "    [Input(component_id='violin_CL', component_property='value')]\n",
    ")\n",
    "\n",
    "def update_graph(violin_CL):\n",
    "    dff = NHL_violin\n",
    "    fig = go.Figure()\n",
    "    fig.add_trace(go.Violin(y=dff[violin_CL].loc[dff['playoffGame'] == 0],box_visible=True, line_color='pink',\n",
    "                               meanline_visible=True, fillcolor='darkred', opacity=0.5,\n",
    "                    x0='Regular'))\n",
    "    fig.add_trace(go.Violin(y=dff[violin_CL].loc[dff['playoffGame'] == 1], box_visible=True, line_color='pink',\n",
    "                               meanline_visible=True, fillcolor='darkred', opacity=0.5,\n",
    "                    x0='Playoffs'))\n",
    "    fig.update_layout(yaxis=dict(title=violin_CL,nticks = 12),xaxis=dict(title='Season'),title= violin_CL + ' Reg vs Playoffs',title_x=0.5,width=800,height=400,showlegend=False)\n",
    "    return fig\n",
    "\n",
    "\n",
    "if __name__ == '__main__':\n",
    "    app2.run_server()"
   ]
  }
 ],
 "metadata": {
  "kernelspec": {
   "display_name": "Python 3 (ipykernel)",
   "language": "python",
   "name": "python3"
  },
  "language_info": {
   "codemirror_mode": {
    "name": "ipython",
    "version": 3
   },
   "file_extension": ".py",
   "mimetype": "text/x-python",
   "name": "python",
   "nbconvert_exporter": "python",
   "pygments_lexer": "ipython3",
   "version": "3.8.12"
  }
 },
 "nbformat": 4,
 "nbformat_minor": 5
}
